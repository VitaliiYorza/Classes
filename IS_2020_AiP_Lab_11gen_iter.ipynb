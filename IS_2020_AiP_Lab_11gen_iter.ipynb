{
 "cells": [
  {
   "cell_type": "markdown",
   "metadata": {},
   "source": [
    "### IS 2020 Algorytmy i programowanie - Iteratory i generatory, tablice mieszające"
   ]
  },
  {
   "cell_type": "markdown",
   "metadata": {},
   "source": [
    "#### Zadanie 1. Generatory i iteratory\n",
    "\n",
    "Napisz generatory i iteratory, i za pomocą iteratora wygeneruj 10 liczb. <br>\n",
    "a) kolejne liczby naturalne <br>\n",
    "b) 0, -10, -20, -30 itd. <br>\n",
    "c) 1,-1,2,-2,3,-3,4,-4,itd. <br>\n",
    "d) liczby ciągu Fibonacciego<br>\n",
    "e) liczby ciągu zadanego wzorem $$f(1)=4$$\n",
    "   $$f(n+1)=\\frac{1}{1-f(n)}\\quad n\\geq1$$ \n",
    "f) Cake numbers – maksymalna liczba kawałków, na które można podzielić\n",
    "sześcian n planarnymi cięciami. <br>\n",
    "g) liczby Bella"
   ]
  },
  {
   "cell_type": "code",
   "execution_count": 179,
   "metadata": {},
   "outputs": [
    {
     "data": {
      "text/plain": [
       "<__main__.Cake at 0x7fc0ff2c2908>"
      ]
     },
     "execution_count": 179,
     "metadata": {},
     "output_type": "execute_result"
    }
   ],
   "source": [
    "class Cake:\n",
    "    def __init__(self,n):\n",
    "        self.n = n\n",
    "    def __iter__(self):\n",
    "        return self\n",
    "    def __next__(self):\n",
    "        r = self.n\n",
    "        self.n = 1/6*(self.n**3 + 5*self.n + 6)\n",
    "        print(self.n,r)\n",
    "        return r\n",
    "a = Cake(1)\n",
    "iter(a)"
   ]
  },
  {
   "cell_type": "code",
   "execution_count": 184,
   "metadata": {},
   "outputs": [
    {
     "name": "stdout",
     "output_type": "stream",
     "text": [
      "31850977.0 576.0\n"
     ]
    },
    {
     "data": {
      "text/plain": [
       "576.0"
      ]
     },
     "execution_count": 184,
     "metadata": {},
     "output_type": "execute_result"
    }
   ],
   "source": [
    "next(a)"
   ]
  },
  {
   "cell_type": "code",
   "execution_count": 209,
   "metadata": {},
   "outputs": [],
   "source": [
    "def Cake(n):\n",
    "    z = 1\n",
    "    for i in range(n):\n",
    "        r = z\n",
    "        z = 1/6*(z**3 + 5*z + 6)\n",
    "        yield r\n",
    "g = Cake(5)"
   ]
  },
  {
   "cell_type": "code",
   "execution_count": 214,
   "metadata": {},
   "outputs": [
    {
     "data": {
      "text/plain": [
       "576.0"
      ]
     },
     "execution_count": 214,
     "metadata": {},
     "output_type": "execute_result"
    }
   ],
   "source": [
    "next(g)"
   ]
  },
  {
   "cell_type": "code",
   "execution_count": 221,
   "metadata": {},
   "outputs": [
    {
     "data": {
      "text/plain": [
       "<__main__.Bell at 0x7fc0ff823588>"
      ]
     },
     "execution_count": 221,
     "metadata": {},
     "output_type": "execute_result"
    }
   ],
   "source": [
    "class Bell:\n",
    "    def __init__(self):\n",
    "        self.n = [1]\n",
    "    def __iter__(self):\n",
    "        return self\n",
    "    def __next__(self):\n",
    "        ret = self.n\n",
    "        l = [self.n[-1]]\n",
    "        for i in range(len(self.n)):\n",
    "            l.append(l[-1]+self.n[i])\n",
    "        self.n = l\n",
    "        return ret\n",
    "b = Bell()\n",
    "iter(b)"
   ]
  },
  {
   "cell_type": "code",
   "execution_count": 222,
   "metadata": {},
   "outputs": [
    {
     "name": "stdout",
     "output_type": "stream",
     "text": [
      "[1]\n",
      "[1, 2]\n",
      "[2, 3, 5]\n",
      "[5, 7, 10, 15]\n",
      "[15, 20, 27, 37, 52]\n"
     ]
    }
   ],
   "source": [
    "for i in range(5):\n",
    "    print(next(b))"
   ]
  },
  {
   "cell_type": "code",
   "execution_count": null,
   "metadata": {},
   "outputs": [],
   "source": []
  },
  {
   "cell_type": "code",
   "execution_count": 95,
   "metadata": {},
   "outputs": [],
   "source": [
    "class L_N:\n",
    "    def __init__(self,M):\n",
    "        self.n = 1\n",
    "        self.M = M\n",
    "    def __iter__(self):\n",
    "        return self\n",
    "    def __next__(self):\n",
    "        if self.n < self.M:\n",
    "            r = self.n\n",
    "            if self.n > 0:\n",
    "                self.n = 0 - self.n\n",
    "            else:\n",
    "                self.n = abs(self.n) + 1\n",
    "            return r\n",
    "        else:\n",
    "            raise StopIteration\n",
    "L1 = L_N(40)\n",
    "iter(L1)"
   ]
  },
  {
   "cell_type": "code",
   "execution_count": 96,
   "metadata": {},
   "outputs": [
    {
     "data": {
      "text/plain": [
       "<generator object L_N.__next__ at 0x7fc0ffaaf9a8>"
      ]
     },
     "execution_count": 96,
     "metadata": {},
     "output_type": "execute_result"
    }
   ],
   "source": [
    "next(L1)"
   ]
  },
  {
   "cell_type": "code",
   "execution_count": 69,
   "metadata": {},
   "outputs": [
    {
     "name": "stdout",
     "output_type": "stream",
     "text": [
      "1\n",
      "-1\n",
      "2\n",
      "-2\n",
      "3\n",
      "-3\n",
      "4\n",
      "-4\n"
     ]
    },
    {
     "ename": "StopIteration",
     "evalue": "",
     "output_type": "error",
     "traceback": [
      "\u001b[0;31m---------------------------------------------------------------------------\u001b[0m",
      "\u001b[0;31mStopIteration\u001b[0m                             Traceback (most recent call last)",
      "\u001b[0;32m<ipython-input-69-86eada86cc64>\u001b[0m in \u001b[0;36m<module>\u001b[0;34m\u001b[0m\n\u001b[1;32m      1\u001b[0m \u001b[0;32mfor\u001b[0m \u001b[0mi\u001b[0m \u001b[0;32min\u001b[0m \u001b[0mrange\u001b[0m\u001b[0;34m(\u001b[0m\u001b[0;36m10\u001b[0m\u001b[0;34m)\u001b[0m\u001b[0;34m:\u001b[0m\u001b[0;34m\u001b[0m\u001b[0;34m\u001b[0m\u001b[0m\n\u001b[0;32m----> 2\u001b[0;31m     \u001b[0mprint\u001b[0m\u001b[0;34m(\u001b[0m\u001b[0mnext\u001b[0m\u001b[0;34m(\u001b[0m\u001b[0mL1\u001b[0m\u001b[0;34m)\u001b[0m\u001b[0;34m)\u001b[0m\u001b[0;34m\u001b[0m\u001b[0;34m\u001b[0m\u001b[0m\n\u001b[0m",
      "\u001b[0;32m<ipython-input-68-d16082e68a3d>\u001b[0m in \u001b[0;36m__next__\u001b[0;34m(self)\u001b[0m\n\u001b[1;32m     14\u001b[0m             \u001b[0;32mreturn\u001b[0m \u001b[0mr\u001b[0m\u001b[0;34m\u001b[0m\u001b[0;34m\u001b[0m\u001b[0m\n\u001b[1;32m     15\u001b[0m         \u001b[0;32melse\u001b[0m\u001b[0;34m:\u001b[0m\u001b[0;34m\u001b[0m\u001b[0;34m\u001b[0m\u001b[0m\n\u001b[0;32m---> 16\u001b[0;31m             \u001b[0;32mraise\u001b[0m \u001b[0mStopIteration\u001b[0m\u001b[0;34m\u001b[0m\u001b[0;34m\u001b[0m\u001b[0m\n\u001b[0m\u001b[1;32m     17\u001b[0m \u001b[0mL1\u001b[0m \u001b[0;34m=\u001b[0m \u001b[0mL_N\u001b[0m\u001b[0;34m(\u001b[0m\u001b[0;36m5\u001b[0m\u001b[0;34m)\u001b[0m\u001b[0;34m\u001b[0m\u001b[0;34m\u001b[0m\u001b[0m\n\u001b[1;32m     18\u001b[0m \u001b[0miter\u001b[0m\u001b[0;34m(\u001b[0m\u001b[0mL1\u001b[0m\u001b[0;34m)\u001b[0m\u001b[0;34m\u001b[0m\u001b[0;34m\u001b[0m\u001b[0m\n",
      "\u001b[0;31mStopIteration\u001b[0m: "
     ]
    }
   ],
   "source": [
    "for i in range(10):\n",
    "    print(next(L1))"
   ]
  },
  {
   "cell_type": "code",
   "execution_count": 76,
   "metadata": {},
   "outputs": [],
   "source": [
    "class L_N:\n",
    "    def __init__(self,M):\n",
    "        self.M = M\n",
    "        self.n = 0\n",
    "    def __iter__(self):\n",
    "        return self\n",
    "    def __next__(self):\n",
    "        if self.n > self.M:\n",
    "            r = self.n\n",
    "            self.n -= 10\n",
    "            yield r\n",
    "        else:\n",
    "            raise StopIteration\n",
    "L2 = L_N(-80)\n",
    "iter(L2)"
   ]
  },
  {
   "cell_type": "code",
   "execution_count": 110,
   "metadata": {},
   "outputs": [
    {
     "data": {
      "text/plain": [
       "<generator object L_N_G.__next__ at 0x7fc0ff324480>"
      ]
     },
     "execution_count": 110,
     "metadata": {},
     "output_type": "execute_result"
    }
   ],
   "source": [
    "next(L2)"
   ]
  },
  {
   "cell_type": "code",
   "execution_count": 142,
   "metadata": {},
   "outputs": [],
   "source": [
    "def g2(z):\n",
    "    n = 1\n",
    "    for i in range(z):\n",
    "        if n > 0:\n",
    "                n = 0 - n\n",
    "                yield n\n",
    "        else:\n",
    "            n = abs(n) + 1\n",
    "            yield n\n",
    "k = g2(10)"
   ]
  },
  {
   "cell_type": "code",
   "execution_count": 146,
   "metadata": {},
   "outputs": [
    {
     "data": {
      "text/plain": [
       "3"
      ]
     },
     "execution_count": 146,
     "metadata": {},
     "output_type": "execute_result"
    }
   ],
   "source": [
    "next(k)"
   ]
  },
  {
   "cell_type": "code",
   "execution_count": 127,
   "metadata": {},
   "outputs": [],
   "source": [
    "def g(n):\n",
    "    for i in range(0,n,-10):\n",
    "        yield i\n",
    "k = g(-120)"
   ]
  },
  {
   "cell_type": "code",
   "execution_count": 130,
   "metadata": {},
   "outputs": [
    {
     "data": {
      "text/plain": [
       "-20"
      ]
     },
     "execution_count": 130,
     "metadata": {},
     "output_type": "execute_result"
    }
   ],
   "source": [
    "next(k)"
   ]
  },
  {
   "cell_type": "markdown",
   "metadata": {},
   "source": [
    "#### Zadanie 2. Tablice mieszające\n",
    "\n",
    "Wykorzystując klasę `Osoba` umieść w tablicy 10-elementowej 20 osób. Wykorzystaj dwie różne funkcje mieszające:<br>\n",
    "a) liczącą funkcję skrótu w zależności od numeru pesel (modulo lub ze złotą liczbą)<br>\n",
    "b) liczącą funkcję skrótu od nazwiska i numeru pesel (modulo lub ze złotą liczbą)"
   ]
  },
  {
   "cell_type": "code",
   "execution_count": 56,
   "metadata": {},
   "outputs": [
    {
     "name": "stdout",
     "output_type": "stream",
     "text": [
      "2 7\n",
      "3\n",
      "2 3\n",
      "1\n",
      "2 1\n",
      "asd\n",
      "2 2\n",
      "1\n",
      "2 1\n",
      "asd\n",
      "2 1\n",
      "asd\n",
      "2 4\n",
      "2\n",
      "2 2\n",
      "1\n",
      "2 1\n",
      "asd\n",
      "2 1\n",
      "asd\n",
      "2 2\n",
      "1\n",
      "2 1\n",
      "asd\n",
      "2 1\n",
      "asd\n"
     ]
    },
    {
     "data": {
      "text/plain": [
       "128"
      ]
     },
     "execution_count": 56,
     "metadata": {},
     "output_type": "execute_result"
    }
   ],
   "source": [
    "import math\n",
    "def po(a,n):\n",
    "    print(a,n)\n",
    "    if n == 1:\n",
    "        print('asd')\n",
    "        \n",
    "        return a\n",
    "    m = math.floor(n/2)\n",
    "    print(m)\n",
    "    return po(a,m)*po(a,n-m)\n",
    "po(2,7)"
   ]
  },
  {
   "cell_type": "code",
   "execution_count": 1,
   "metadata": {},
   "outputs": [
    {
     "name": "stdout",
     "output_type": "stream",
     "text": [
      "asd\n"
     ]
    }
   ],
   "source": [
    "print('asd')"
   ]
  },
  {
   "cell_type": "code",
   "execution_count": 48,
   "metadata": {},
   "outputs": [
    {
     "name": "stdout",
     "output_type": "stream",
     "text": [
      "[8, 7, 6, 5, 4, 3, 2, 1, 0]\n"
     ]
    },
    {
     "data": {
      "text/plain": [
       "[0, 0, 0, 0, 0, 0, 0, 0, 0]"
      ]
     },
     "execution_count": 48,
     "metadata": {},
     "output_type": "execute_result"
    }
   ],
   "source": [
    "n = 9\n",
    "T = [i for i in range(n)]\n",
    "T = T[::-1]\n",
    "print(T)\n",
    "for i in range(n - 1):\n",
    "    mi = i\n",
    "    for j in range(i+1,n):\n",
    "        if T[j] < T[mi]:\n",
    "            mi = j\n",
    "    T[i] = T[mi]\n",
    "T"
   ]
  },
  {
   "cell_type": "code",
   "execution_count": null,
   "metadata": {},
   "outputs": [],
   "source": [
    "class Osoba:\n",
    "    def __init__(self,i,n,p):\n",
    "        self.imie = i\n",
    "        self.nazwisko = n\n",
    "        self.pesel = p\n",
    "        \n",
    "    def __str__(self):\n",
    "        return f\"{self.imie} {self.nazwisko}, PESEL: {self.pesel}\"\n",
    "        \n",
    "class Hash:\n",
    "    def __init__(self,wielkosc):\n",
    "        self.wielkosc = wielkosc\n",
    "        self.ht = []\n",
    "        for i in range(self.wielkosc):\n",
    "            self.ht.append([])\n",
    "            \n",
    "    def hash1(self,x):\n",
    "        s=0\n",
    "        for i in x.imie:\n",
    "            s+=ord(i)\n",
    "        for i in x.nazwisko:\n",
    "            s+=ord(i)\n",
    "        s+=x.pesel\n",
    "        return s%self.wielkosc\n",
    "\n",
    "    def insert(self,x):\n",
    "        index = self.hash1(x)\n",
    "        self.ht[index].append(x)  \n",
    "        \n",
    "    def remove(self,x):\n",
    "        index = self.hash1(x)\n",
    "        temp_bucket=[]\n",
    "        for k in self.ht[index]:\n",
    "            if k!=x:\n",
    "                temp_bucket.append(k)\n",
    "        self.ht[index] = temp_bucket\n",
    "        \n",
    "    def search(self,x):\n",
    "        index = self.hash1(x)\n",
    "        for i in self.ht[index]:\n",
    "            if i==x:\n",
    "                print(\"Osoba jest w tablicy!\")\n",
    "                return x\n",
    "        return False\n",
    "    \n",
    "\n"
   ]
  }
 ],
 "metadata": {
  "kernelspec": {
   "display_name": "Python 3 (ipykernel)",
   "language": "python",
   "name": "python3"
  },
  "language_info": {
   "codemirror_mode": {
    "name": "ipython",
    "version": 3
   },
   "file_extension": ".py",
   "mimetype": "text/x-python",
   "name": "python",
   "nbconvert_exporter": "python",
   "pygments_lexer": "ipython3",
   "version": "3.9.5"
  }
 },
 "nbformat": 4,
 "nbformat_minor": 4
}
