{
 "cells": [
  {
   "cell_type": "markdown",
   "metadata": {},
   "source": [
    "#### Zadanie 1 \n",
    "Zaprojektuj strukturę danych typu FIFO (First In, First Out - w której nowe dane dopisywane są na końcu kolejki, a pobierane z początku kolejki) zawierającą dowolne dane (np. liczby, litery, wyrazy, osoby)."
   ]
  },
  {
   "cell_type": "code",
   "execution_count": 1,
   "metadata": {},
   "outputs": [],
   "source": [
    "class FIFO:\n",
    "    def __init__(self,n):\n",
    "        self.size = n\n",
    "        self.items = [0 for i in range(self.size)]\n",
    "        self.head = 0\n",
    "        self.tail = 0\n",
    "        self.count = 0\n",
    "    \n",
    "    def enqueue(self,x):\n",
    "        if self.count != self.size:\n",
    "            self.items[self.tail] = x\n",
    "            if self.tail == self.size - 1:\n",
    "                self.tail = 0\n",
    "            else:\n",
    "                self.tail += 1\n",
    "        else:\n",
    "            return 'Kolejka jest pelna'\n",
    "        self.count += 1\n",
    "    def dequeue(self):\n",
    "        if self.count == 0:\n",
    "            return 'Kolejka jest pusta'\n",
    "        x = self.items[self.head]\n",
    "        if self.head == self.size - 1:\n",
    "            self.head = 0\n",
    "        else:\n",
    "            self.head += 1\n",
    "        self.count -= 1\n",
    "        return x\n",
    "    def first(self):\n",
    "        if not self.empty():\n",
    "            return self.items[self.head]\n",
    "    def empty(self):\n",
    "        return self.head == self.tail"
   ]
  },
  {
   "cell_type": "code",
   "execution_count": 2,
   "metadata": {},
   "outputs": [],
   "source": [
    "A = FIFO(2)"
   ]
  },
  {
   "cell_type": "code",
   "execution_count": 9,
   "metadata": {},
   "outputs": [
    {
     "data": {
      "text/plain": [
       "'Kolejka jest pelna'"
      ]
     },
     "execution_count": 9,
     "metadata": {},
     "output_type": "execute_result"
    }
   ],
   "source": [
    "A.enqueue(3)"
   ]
  },
  {
   "cell_type": "code",
   "execution_count": 10,
   "metadata": {},
   "outputs": [
    {
     "data": {
      "text/plain": [
       "[3, 3]"
      ]
     },
     "execution_count": 10,
     "metadata": {},
     "output_type": "execute_result"
    }
   ],
   "source": [
    "A.items"
   ]
  },
  {
   "cell_type": "code",
   "execution_count": 7,
   "metadata": {},
   "outputs": [],
   "source": [
    "A.first()"
   ]
  },
  {
   "cell_type": "code",
   "execution_count": 8,
   "metadata": {},
   "outputs": [
    {
     "data": {
      "text/plain": [
       "(0, 0)"
      ]
     },
     "execution_count": 8,
     "metadata": {},
     "output_type": "execute_result"
    }
   ],
   "source": [
    "A.head, A.tail"
   ]
  },
  {
   "cell_type": "code",
   "execution_count": 148,
   "metadata": {},
   "outputs": [
    {
     "data": {
      "text/plain": [
       "'Kolejka jest pusta'"
      ]
     },
     "execution_count": 148,
     "metadata": {},
     "output_type": "execute_result"
    }
   ],
   "source": [
    "A.dequeue()"
   ]
  },
  {
   "cell_type": "code",
   "execution_count": 11,
   "metadata": {},
   "outputs": [
    {
     "data": {
      "text/plain": [
       "True"
      ]
     },
     "execution_count": 11,
     "metadata": {},
     "output_type": "execute_result"
    }
   ],
   "source": [
    "A.empty()"
   ]
  },
  {
   "cell_type": "markdown",
   "metadata": {},
   "source": [
    "#### Zadanie 2\n",
    "Zilustruj działanie kolejki tworząc kolejkę osób w przychodni."
   ]
  },
  {
   "cell_type": "code",
   "execution_count": 12,
   "metadata": {},
   "outputs": [],
   "source": [
    "class FIFO:\n",
    "    def __init__(self,n):\n",
    "        self.size = n\n",
    "        self.items = [0 for i in range(self.size)]\n",
    "        self.head = 0\n",
    "        self.tail = 0\n",
    "        self.count = 0\n",
    "    \n",
    "    def enqueue(self,x):\n",
    "        if self.count != self.size:\n",
    "            self.items[self.tail] = x\n",
    "            if self.tail == self.size - 1:\n",
    "                self.tail = 0\n",
    "            else:\n",
    "                self.tail += 1\n",
    "        else:\n",
    "            return 'Kolejka jest pelna'\n",
    "        self.count += 1\n",
    "        \n",
    "    def dequeue(self):\n",
    "        if self.count == 0:\n",
    "            return 'Kolejka jest pusta'\n",
    "        x = self.items[self.head]\n",
    "        if self.head == self.size - 1:\n",
    "            self.head = 0\n",
    "        else:\n",
    "            self.head += 1\n",
    "        self.count -= 1\n",
    "        return x\n",
    "    \n",
    "    def first(self):\n",
    "        if not self.empty():\n",
    "            return self.items[self.head]\n",
    "        \n",
    "    def empty(self):\n",
    "        return self.head == self.tail\n",
    "    \n",
    "class Osoba:\n",
    "    def __init__(self,imie,nazwisko,baza):\n",
    "        self.imie = imie\n",
    "        self.nazwisko = nazwisko\n",
    "        baza.enqueue(self.imie)"
   ]
  },
  {
   "cell_type": "code",
   "execution_count": 13,
   "metadata": {},
   "outputs": [],
   "source": [
    "Baza = FIFO(4)\n",
    "os1 = Osoba('V','Y',Baza)\n",
    "os2 = Osoba('T','R',Baza)"
   ]
  },
  {
   "cell_type": "code",
   "execution_count": 14,
   "metadata": {},
   "outputs": [
    {
     "data": {
      "text/plain": [
       "['V', 'T', 0, 0]"
      ]
     },
     "execution_count": 14,
     "metadata": {},
     "output_type": "execute_result"
    }
   ],
   "source": [
    "Baza.items"
   ]
  },
  {
   "cell_type": "code",
   "execution_count": 15,
   "metadata": {},
   "outputs": [
    {
     "data": {
      "text/plain": [
       "2"
      ]
     },
     "execution_count": 15,
     "metadata": {},
     "output_type": "execute_result"
    }
   ],
   "source": [
    "Baza.tail"
   ]
  },
  {
   "cell_type": "code",
   "execution_count": 16,
   "metadata": {},
   "outputs": [
    {
     "data": {
      "text/plain": [
       "0"
      ]
     },
     "execution_count": 16,
     "metadata": {},
     "output_type": "execute_result"
    }
   ],
   "source": [
    "Baza.head"
   ]
  },
  {
   "cell_type": "code",
   "execution_count": null,
   "metadata": {},
   "outputs": [],
   "source": []
  },
  {
   "cell_type": "code",
   "execution_count": 258,
   "metadata": {},
   "outputs": [],
   "source": [
    "class Node:\n",
    "    def __init__(self,value):\n",
    "        self.value = value\n",
    "        self.next = None\n",
    "class FIFO2:\n",
    "    def __init__(self):\n",
    "        self.length = 0\n",
    "        self.first = None\n",
    "        self.last = None\n",
    "    \n",
    "    def enqueue(self,x):\n",
    "        new_node = Node(x)\n",
    "        if self.length == 0:\n",
    "            self.first = new_node\n",
    "            self.last = new_node\n",
    "        else:\n",
    "            self.last.next = new_node\n",
    "            self.last = new_node\n",
    "        self.length += 1\n",
    "        \n",
    "    def dequeue(self):\n",
    "        if not self.first.value == None:\n",
    "            return 'kol jest pusta'\n",
    "        else:\n",
    "            self.first = self.first.next\n",
    "            self.length -= 1\n",
    "            \n",
    "    \n",
    "    def first_1(self):\n",
    "        if not self.first.value == None:\n",
    "            return 'kol jest pusta'\n",
    "        else:\n",
    "            return self.first.value\n",
    "        \n",
    "    def empty(self):\n",
    "        return self.length == 0"
   ]
  },
  {
   "cell_type": "code",
   "execution_count": 259,
   "metadata": {},
   "outputs": [],
   "source": [
    "B = FIFO2()"
   ]
  },
  {
   "cell_type": "code",
   "execution_count": 261,
   "metadata": {},
   "outputs": [],
   "source": [
    "B.enqueue(39)"
   ]
  },
  {
   "cell_type": "code",
   "execution_count": 262,
   "metadata": {},
   "outputs": [
    {
     "data": {
      "text/plain": [
       "'kol jest pusta'"
      ]
     },
     "execution_count": 262,
     "metadata": {},
     "output_type": "execute_result"
    }
   ],
   "source": [
    "B.first_1()"
   ]
  },
  {
   "cell_type": "code",
   "execution_count": 255,
   "metadata": {},
   "outputs": [
    {
     "data": {
      "text/plain": [
       "35"
      ]
     },
     "execution_count": 255,
     "metadata": {},
     "output_type": "execute_result"
    }
   ],
   "source": [
    "B.first.value"
   ]
  },
  {
   "cell_type": "code",
   "execution_count": null,
   "metadata": {},
   "outputs": [],
   "source": []
  }
 ],
 "metadata": {
  "kernelspec": {
   "display_name": "Python 3 (ipykernel)",
   "language": "python",
   "name": "python3"
  },
  "language_info": {
   "codemirror_mode": {
    "name": "ipython",
    "version": 3
   },
   "file_extension": ".py",
   "mimetype": "text/x-python",
   "name": "python",
   "nbconvert_exporter": "python",
   "pygments_lexer": "ipython3",
   "version": "3.9.5"
  }
 },
 "nbformat": 4,
 "nbformat_minor": 4
}
