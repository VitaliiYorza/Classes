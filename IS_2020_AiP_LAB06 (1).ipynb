{
 "cells": [
  {
   "cell_type": "markdown",
   "metadata": {
    "id": "0E3Yz7wPxS3H"
   },
   "source": [
    "IS 2020 Algorytmy i programowanie\n",
    "\n",
    "Programowanie obiektowe"
   ]
  },
  {
   "cell_type": "markdown",
   "metadata": {
    "id": "4z-GaY3IxS3T"
   },
   "source": [
    "Zaimpementuj następujące klasy. Pamiętaj o docstringach, getterach i setterach funkcji repr i str."
   ]
  },
  {
   "cell_type": "markdown",
   "metadata": {
    "id": "jTk9cemSxS3V"
   },
   "source": [
    "### Zadanie 1\n",
    "\n",
    "Zaimplemnetuj klasę Osoba (dane z dowodu osobistego).  Klasa powinna zawierać  funkcję sprawdzania poprawności  numeru pesel (wykorzystać kod z I sem) lub jego generowania. Data urodzenia oraz płeć powinny być pobierane z numeru pesel. Data ważności powinna zostać wygenerowana z daty wydania + 10 lat. Data wydania to data zajęć laboratoryjnych - pobierana z systemu)."
   ]
  },
  {
   "cell_type": "code",
   "execution_count": null,
   "metadata": {
    "id": "uBJy5Y2nxS3W"
   },
   "outputs": [],
   "source": [
    "class Osoba:\n",
    "    def __init__(self, p, imie):\n",
    "        self.pesel=p\n",
    "        self.imie = imie\n",
    "        self.data_wyd=\"2021-03-31\"\n",
    "    def get_imie(self):\n",
    "        return self.imie\n",
    "    def set_imie(self, x):\n",
    "        self.imie=x\n",
    "    #def get_rok(self):\n",
    "        \n",
    "    #def __str__(self):\n",
    "    #    return \"osoba o imieniu: \" + self.imie\n",
    "    def __repr__(self):\n",
    "        return \"osoba o imieniu: \" + self.imie + \" pesel: \" + self.pesel\n",
    "    \n",
    "os1=Osoba(\"9912132312451\",\"Jan\")"
   ]
  },
  {
   "cell_type": "code",
   "execution_count": null,
   "metadata": {
    "id": "iZLQdTgFxS3X",
    "outputId": "1b35e720-4a53-4e85-d3d9-2bffeda47e61"
   },
   "outputs": [
    {
     "name": "stdout",
     "output_type": "stream",
     "text": [
      "osoba o imieniu: Jan pesel: 9912132312451\n"
     ]
    }
   ],
   "source": [
    "print(os1)"
   ]
  },
  {
   "cell_type": "code",
   "execution_count": null,
   "metadata": {
    "id": "ffmur4wKxS3Z",
    "outputId": "2d618fa0-e088-42ed-f785-e133d0e3d965"
   },
   "outputs": [
    {
     "data": {
      "text/plain": [
       "'osoba o imieniu: Jan pesel: 9912132312451'"
      ]
     },
     "execution_count": 10,
     "metadata": {
      "tags": []
     },
     "output_type": "execute_result"
    }
   ],
   "source": [
    "repr(os1)"
   ]
  },
  {
   "cell_type": "code",
   "execution_count": null,
   "metadata": {
    "id": "isUvr0RaxS3a",
    "outputId": "4eb83786-3bd8-46df-d852-f329510dd907"
   },
   "outputs": [
    {
     "data": {
      "text/plain": [
       "'2021-03-31'"
      ]
     },
     "execution_count": 97,
     "metadata": {
      "tags": []
     },
     "output_type": "execute_result"
    }
   ],
   "source": [
    "os1.data_wyd"
   ]
  },
  {
   "cell_type": "code",
   "execution_count": null,
   "metadata": {
    "id": "IO0XfOsKxS3b",
    "outputId": "ca2008bc-0322-4de1-c33e-2c86bfaef534"
   },
   "outputs": [
    {
     "data": {
      "text/plain": [
       "'Jakub'"
      ]
     },
     "execution_count": 84,
     "metadata": {
      "tags": []
     },
     "output_type": "execute_result"
    }
   ],
   "source": [
    "os1.get_imie()"
   ]
  },
  {
   "cell_type": "code",
   "execution_count": null,
   "metadata": {
    "id": "I2UmOG1AxS3c"
   },
   "outputs": [],
   "source": [
    "os1.set_imie(\"Jakub\")"
   ]
  },
  {
   "cell_type": "code",
   "execution_count": null,
   "metadata": {
    "id": "LDVI7ETXxS3d",
    "outputId": "63b442f6-1cf1-488b-a1b5-08113c57c7a4"
   },
   "outputs": [
    {
     "data": {
      "text/plain": [
       "'osoba o imieniu: Jan'"
      ]
     },
     "execution_count": 89,
     "metadata": {
      "tags": []
     },
     "output_type": "execute_result"
    }
   ],
   "source": [
    "os1.__str__()"
   ]
  },
  {
   "cell_type": "code",
   "execution_count": null,
   "metadata": {
    "id": "xRoTCl9jxS3e",
    "outputId": "98930cc2-986d-4668-9a9b-dad84d43980d"
   },
   "outputs": [
    {
     "name": "stdout",
     "output_type": "stream",
     "text": [
      "osoba o imieniu: Jan\n"
     ]
    }
   ],
   "source": [
    "print(os1)"
   ]
  },
  {
   "cell_type": "code",
   "execution_count": null,
   "metadata": {
    "id": "V433gdQfxS3e",
    "outputId": "0f40a657-2b79-4538-bf79-4890c4c161ea"
   },
   "outputs": [
    {
     "data": {
      "text/plain": [
       "'osoba o imieniu: Jan pesel: 9912132312451'"
      ]
     },
     "execution_count": 12,
     "metadata": {
      "tags": []
     },
     "output_type": "execute_result"
    }
   ],
   "source": [
    "repr(os1)"
   ]
  },
  {
   "cell_type": "code",
   "execution_count": null,
   "metadata": {
    "id": "g5R-XP1AxS3f"
   },
   "outputs": [],
   "source": [
    "# wersja 2\n",
    "import datetime\n",
    "class Osoba:\n",
    "    def __init__(self, imie, nazwisko, pesel):\n",
    "        self.imie = imie\n",
    "        self.nazwisko = nazwisko\n",
    "        self.pesel = pesel\n",
    "        self.data_wydania = str(datetime.date.today())\n",
    "    def czy_poprawny(self):\n",
    "        PS=[int(i) for i in self.pesel]\n",
    "        W=[1, 3, 7, 9, 1, 3, 7, 9, 1, 3]\n",
    "        suma=0\n",
    "        for i in range(len(PS)-1):\n",
    "            suma+=PS[i]* W[i]\n",
    "        suma%=10\n",
    "        if suma==0:\n",
    "            C=0\n",
    "        else:\n",
    "            C=10-suma\n",
    "        if PS[-1]==C:\n",
    "            return True\n",
    "        else:\n",
    "            return False\n",
    "    def get_plec(self):\n",
    "        p=self.pesel[-2]\n",
    "        if int(p)%2==0:\n",
    "            return \"Kobieta\"\n",
    "        else:\n",
    "            return \"Mężczyzna\"\n",
    "    def get_data_ur(self):\n",
    "        if self.pesel[2] in ('2','3'):\n",
    "            rok=\"20\"+self.pesel[:2]\n",
    "            m=int(self.pesel[2:4])-20\n",
    "            if m%10==m:\n",
    "                m=\"0\"+str(m)\n",
    "            else:\n",
    "                m=str(m)\n",
    "        elif self.pesel[2] in ('8','9'):\n",
    "            rok = '18'+ self.pesel[:2]\n",
    "            m=int(self.pesel[2:4])-80\n",
    "            if m%10==m:\n",
    "                m=\"0\"+str(m)\n",
    "            else:\n",
    "                m=str(m)\n",
    "        else:\n",
    "            rok = '19'+self.pesel[:2]\n",
    "            m=self.pesel[2:4]\n",
    "        d=self.pesel[4:6]\n",
    "        return rok + \"-\"+m+\"-\"+d\n",
    "    def get_data_waz(self):\n",
    "        return str(int(self.data_wydania[:4])+10)+self.data_wydania[4:]\n",
    "        \n",
    "        \n",
    "o1=Osoba(\"Katarzyna\", \"Mis\", \"09821314526\")\n",
    "\n",
    "\n",
    "        \n",
    "        "
   ]
  },
  {
   "cell_type": "code",
   "execution_count": null,
   "metadata": {
    "id": "yxuAbFKrxS3i",
    "outputId": "066f21c0-f317-4bab-d750-abc979a85e58"
   },
   "outputs": [
    {
     "data": {
      "text/plain": [
       "'1809-02-13'"
      ]
     },
     "execution_count": 16,
     "metadata": {
      "tags": []
     },
     "output_type": "execute_result"
    }
   ],
   "source": [
    "o1.get_data_ur()"
   ]
  },
  {
   "cell_type": "code",
   "execution_count": null,
   "metadata": {
    "id": "xGxO0kNkxS3i",
    "outputId": "f23a0df1-b271-4190-a2dc-e4bcc143cda8"
   },
   "outputs": [
    {
     "data": {
      "text/plain": [
       "False"
      ]
     },
     "execution_count": 17,
     "metadata": {
      "tags": []
     },
     "output_type": "execute_result"
    }
   ],
   "source": [
    "o1.czy_poprawny()"
   ]
  },
  {
   "cell_type": "markdown",
   "metadata": {
    "id": "ZOfXFsAKxS3j"
   },
   "source": [
    "### Zadanie 2\n",
    "\n",
    "Zaimplemetuj klasę książka - wzorcem są informacje w części szczegóły książki np \n",
    "w serwisie https://helion.pl/ksiazki/wzorce-projektowe-elementy-oprogramowania-obiektowego-wielokrotnego-uzytku-erich-gamma-richard-helm-ralph-johnson-john-vli,wzoelv.htm#\n",
    "\n",
    "Program powinien umożliwiać:\n",
    "    \n",
    "    - dodanie książki do bazy danych\n",
    "    - wyświetlenie wszystkich książek  znajdujących się w bazie danych (same tytuły)\n",
    "    - wyświetlenie szczegółowej informacji na temat książki \n",
    "    - zapisać bazę do pliku (pickle)\n",
    "    - odczytać bazę z pliku\n",
    "\n"
   ]
  },
  {
   "cell_type": "code",
   "execution_count": 35,
   "metadata": {
    "id": "0_ZCwBS5xS3k"
   },
   "outputs": [
    {
     "name": "stdout",
     "output_type": "stream",
     "text": [
      "{'9788328333130': 'Design Patterns: Elements of Reusable Object-Oriented Software'}\n"
     ]
    }
   ],
   "source": [
    "class Ksiazka:\n",
    "    def __init__(self,isbn,tytul,format_):\n",
    "        self.isbn = isbn\n",
    "        self.tytul = tytul\n",
    "        self.format_ = format_\n",
    "        self.author = ''\n",
    "    \n",
    "    def get_isbm(self):\n",
    "        return self.isbn\n",
    "    def get_tytul(self):\n",
    "        return self.tytul\n",
    "    def set_author(self,imie):\n",
    "        self.author = imie\n",
    "        return\n",
    "    def __str__(self):\n",
    "        return f'Tytul: {self.tytul}\\nISBN: {self.isbn}\\nFormat: {self.format_}\\nAuthor: {self.author}'\n",
    "    \n",
    "class Baza:\n",
    "    def __init__(self):\n",
    "        self.dict_ks = {}\n",
    "    def __str__(self):\n",
    "        return str(self.dict_ks)\n",
    "    def dod(self,isbn,tytul):\n",
    "        self.dict_ks[isbn] = tytul\n",
    "        \n",
    "baza = Baza() \n",
    "ks1 = Ksiazka('9788328333130', 'Design Patterns: Elements of Reusable Object-Oriented Software','170x230')  \n",
    "baza.dod('9788328333130','Design Patterns: Elements of Reusable Object-Oriented Software')\n",
    "print(baza)"
   ]
  },
  {
   "cell_type": "code",
   "execution_count": 37,
   "metadata": {},
   "outputs": [
    {
     "name": "stdout",
     "output_type": "stream",
     "text": [
      "Tytul: Design Patterns: Elements of Reusable Object-Oriented Software\n",
      "ISBN: 9788328333130\n",
      "Format: 170x230\n",
      "Author: Vitalii\n"
     ]
    }
   ],
   "source": [
    "ks1.set_author('Vitalii')\n",
    "print(ks1)"
   ]
  },
  {
   "cell_type": "code",
   "execution_count": 23,
   "metadata": {},
   "outputs": [],
   "source": [
    "ks2 = Baza([ks1.isbn,ks1.tytul, ks1.format_])"
   ]
  },
  {
   "cell_type": "code",
   "execution_count": 24,
   "metadata": {},
   "outputs": [
    {
     "data": {
      "text/plain": [
       "{'9788328333130': ['Design Patterns: Elements of Reusable Object-Oriented Software',\n",
       "  '170x230']}"
      ]
     },
     "execution_count": 24,
     "metadata": {},
     "output_type": "execute_result"
    }
   ],
   "source": [
    "ks2.inf_ksiaz"
   ]
  },
  {
   "cell_type": "code",
   "execution_count": null,
   "metadata": {},
   "outputs": [],
   "source": []
  },
  {
   "cell_type": "markdown",
   "metadata": {
    "id": "nbd-dtSrxS3k"
   },
   "source": [
    "### Zadanie 3\n",
    "Stwórz klasę 'Piosenka', z atrybutami charakterystycznymi dla piosenek: autor, tytuł, rok napisania, długość. Dodaj `__str__, __repr__`. Następnie stwórz klasę \"Płyta\", która posiada swój tytuł, czas trwania, liczby piosenek, rok wydania. Dodaj możliwość:\n",
    "* dodania piosenki do płyty (wówczas zmieniamy łączny czas trwania oraz rok wydania - jest ustalony jako rok powstania najwcześniejszej piosenki), \n",
    "* wyświetlenia zawartości: tytułów piosenek, \n",
    "* sprawdzenia, czy dana piosenka już jest na płycie. \n"
   ]
  },
  {
   "cell_type": "code",
   "execution_count": 3,
   "metadata": {},
   "outputs": [
    {
     "name": "stdout",
     "output_type": "stream",
     "text": [
      "hello\n"
     ]
    }
   ],
   "source": [
    "class Piosenka:\n",
    "    def __init__(self,autor,tytul,rok,dlug):\n",
    "        self.autor = autor\n",
    "        self.tytul = tytul\n",
    "        self.rok = rok\n",
    "        self.dlug = dlug\n",
    "    def __str__(self):\n",
    "        return f'Autor: {self.autor}\\n Tytul: {self.tytul}'\n",
    "    def __repr__(self):\n",
    "        return f'Autor: {self.autor}\\n Tytul: {self.tytul}'\n",
    "pi = Piosenka('Vitalii','Mars','1930','320')\n",
    "\n",
    "class Plyta:\n",
    "    def __init__(self,tytul):\n",
    "        self.tytul = tytul\n",
    "        self.czas = 0\n",
    "        \n",
    "    def dod(self,nazwa):\n",
    "        self.nazwa = {self.tytul:[int(self.czas) + int(nazwa.dlug)]}\n",
    "plyta = Plyta('hello')\n",
    "print(plyta.tytul)"
   ]
  },
  {
   "cell_type": "code",
   "execution_count": null,
   "metadata": {},
   "outputs": [],
   "source": []
  },
  {
   "cell_type": "code",
   "execution_count": null,
   "metadata": {},
   "outputs": [],
   "source": []
  },
  {
   "cell_type": "code",
   "execution_count": null,
   "metadata": {
    "id": "PCd0OIKexS3l"
   },
   "outputs": [],
   "source": [
    "aa"
   ]
  }
 ],
 "metadata": {
  "colab": {
   "name": "IS_2020_AiP_LAB06.ipynb",
   "provenance": []
  },
  "kernelspec": {
   "display_name": "Python 3 (ipykernel)",
   "language": "python",
   "name": "python3"
  },
  "language_info": {
   "codemirror_mode": {
    "name": "ipython",
    "version": 3
   },
   "file_extension": ".py",
   "mimetype": "text/x-python",
   "name": "python",
   "nbconvert_exporter": "python",
   "pygments_lexer": "ipython3",
   "version": "3.9.5"
  }
 },
 "nbformat": 4,
 "nbformat_minor": 4
}
