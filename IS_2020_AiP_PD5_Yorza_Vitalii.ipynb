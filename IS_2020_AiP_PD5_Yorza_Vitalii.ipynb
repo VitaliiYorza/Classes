{
 "cells": [
  {
   "cell_type": "code",
   "execution_count": 1,
   "metadata": {
    "id": "3_uO954JgdJ8"
   },
   "outputs": [],
   "source": [
    "## IS 2020 Algorytmy i programowanie\n",
    "### Praca domowa 05 [100 pkt]\n",
    "\n",
    "### Programowanie obiektowe"
   ]
  },
  {
   "cell_type": "markdown",
   "metadata": {
    "id": "P4l1VAfggdKJ"
   },
   "source": [
    "### Zadanie 1 [75]\n",
    "\n",
    "Twój kolega ma spory zbiór płyt muzycznych. Chce je uporządkować. Poprosił Ciebie, abyś napisał mu program, który pozwoli mu zarządzad tym zbiorem, czyli taką bazę płyt. O każdej płycie chce posiadad następujące informacje:\n",
    "\n",
    "    - tytuł płyty\n",
    "    - typ płyty (czy płyta DVD czy CD)\n",
    "    - czas trwania płyty\n",
    "    - spis utworów znajdujących się na każdej płycie\n",
    "    - spis wykonawców, którzy wykonują utwory na danej płycie\n",
    "    - numer płyty (identyfikator płyty nadany przez kolegę)\n",
    "    \n",
    "O każdym utworze kolega chce wiedzieć:\n",
    "\n",
    "    - tytuł utworu\n",
    "    - czas trwania utworu\n",
    "    - spis wykonawców, którzy wykonują dany utwór na danej płycie\n",
    "    - kompozytora danego utworu\n",
    "    - numer utworu na płycie\n",
    "    \n",
    "Program powinien umożliwiać:\n",
    "\n",
    "- dodanie płyty do bazy danych\n",
    "- wyświetlenie wszystkich płyt znajdujących się w bazie danych (same tytuły płyt)\n",
    "- wyświetlenie szczegółowej informacji na temat płyty (tytuł płyty, typ płyty, czas trwania płyty, spis tytułów utworów znajdujących się na płycie z podanym numerem utworu na płycie)\n",
    "- wyświetlenie wykonawców, którzy wykonują utwory na danej płycie\n",
    "- wyświetlenie szczegółowej informacji na temat wybranego utworu z danej płyty (tytuł utworu, czas trwania utworu, spis wykonawców którzy wykonują dany utwór, kompozytora danego utworu)\n",
    "- zapisać bazę do pliku (pickle)\n",
    "- odczytać bazę z pliku"
   ]
  },
  {
   "cell_type": "code",
   "execution_count": 1,
   "metadata": {},
   "outputs": [],
   "source": [
    "import pickle as p\n",
    "baza = []\n",
    "info_o_plytach = {}\n",
    "wsz_utworu = {}\n",
    "class Utwor:\n",
    "    def __init__(self):\n",
    "        self.tytul_utworu = input('Podaj tytul utworu: ')\n",
    "        self.czas_trwania_utworu = int(input('Podaj czas trwania utwory(w sekundach): '))\n",
    "        self.spis_wykonaw_ut = input('Podaj spis wykonawćow: ')\n",
    "        self.kompozytor = input('Podaj kompozytora danego utwory: ')\n",
    "        self.numer_utworu_na_plytach = {}\n",
    "        wsz_utworu[self] = self.tytul_utworu\n",
    "\n",
    "class Plyty:\n",
    "    def __init__(self):\n",
    "        self.tytul_plyty = input('Podaj tytul plyty: ')\n",
    "        #baza.append(self)\n",
    "        self.numer_plyty = input('Podaj numer plyty: ')\n",
    "        self.typ_plyty = input('Podaj typ plyty(DVD or Cd): ')\n",
    "        self.czas_trwania_plyty = 0\n",
    "        self.spis_wykonawc = []\n",
    "        self.spis_utworow = {}\n",
    "        self.liczba_utworow = 0\n",
    "        \n",
    "    def add_plyte(self):\n",
    "        baza.append(self)\n",
    "       \n",
    "    def add_utwor_do_plyty(self):\n",
    "        nazwe_utworu = input('Podaj nazwe utworu ktorego chcesz dodac do plyty: ')\n",
    "        for k,v in wsz_utworu.items():\n",
    "            if v == nazwe_utworu:\n",
    "                self.liczba_utworow += 1\n",
    "                self.spis_utworow[self.liczba_utworow] = k.tytul_utworu\n",
    "                self.spis_wykonawc.append(k.spis_wykonaw_ut)\n",
    "                self.czas_trwania_plyty += k.czas_trwania_utworu\n",
    "                k.numer_utworu_na_plytach[str(self.liczba_utworow)] = self.tytul_plyty\n",
    "                    \n",
    "    def info_o_plycie(self):\n",
    "        print(f'Tytul: {self.tytul_plyty}\\nTyp: {self.typ_plyty}\\nCzas trwania: {self.czas_trwania_plyty}\\nSpis utworow: {self.spis_utworow}')\n",
    "    \n",
    "    def wykonawcy(self):\n",
    "        return f'Spis wykonawcow: {self.spis_wykonawc}'\n",
    "    \n",
    "    def info_o_utworu_z_plyty(self):\n",
    "        nazwe_utworu = input('Podaj nazwe utworu o ktorem chcesz otrzymac info: ')\n",
    "        for k,v in wsz_utworu.items():\n",
    "            if v == nazwe_utworu:\n",
    "                print(f'Tytul: {k.tytul_utworu}\\nCzas trwania: {k.czas_trwania_utworu}\\\\nSpis wykonawcow: {k.spis_wykonaw_ut}\\\\nKompozytor: {k.kompozytor}')\n",
    "    \n",
    "    def wsz_plyty():\n",
    "        for i in baza:\n",
    "            print(i.tytul_plyty)"
   ]
  },
  {
   "cell_type": "code",
   "execution_count": 2,
   "metadata": {},
   "outputs": [
    {
     "name": "stdin",
     "output_type": "stream",
     "text": [
      "Podaj tytul utworu:  1\n",
      "Podaj czas trwania utwory(w sekundach):  10\n",
      "Podaj spis wykonawćow:  1\n",
      "Podaj kompozytora danego utwory:  1\n",
      "Podaj tytul utworu:  2\n",
      "Podaj czas trwania utwory(w sekundach):  20\n",
      "Podaj spis wykonawćow:  2\n",
      "Podaj kompozytora danego utwory:  2\n"
     ]
    }
   ],
   "source": [
    "song1 = Utwor()\n",
    "song2 = Utwor()"
   ]
  },
  {
   "cell_type": "code",
   "execution_count": 3,
   "metadata": {},
   "outputs": [
    {
     "name": "stdin",
     "output_type": "stream",
     "text": [
      "Podaj tytul plyty:  a\n",
      "Podaj numer plyty:  a\n",
      "Podaj typ plyty(DVD or Cd):  a\n",
      "Podaj tytul plyty:  b\n",
      "Podaj numer plyty:  b\n",
      "Podaj typ plyty(DVD or Cd):  b\n"
     ]
    }
   ],
   "source": [
    "plyta1 = Plyty()\n",
    "plyta2 = Plyty()"
   ]
  },
  {
   "cell_type": "code",
   "execution_count": 4,
   "metadata": {},
   "outputs": [
    {
     "name": "stdin",
     "output_type": "stream",
     "text": [
      "Podaj nazwe utworu ktorego chcesz dodac do plyty:  1\n"
     ]
    }
   ],
   "source": [
    "plyta1.add_utwor_do_plyty()"
   ]
  },
  {
   "cell_type": "code",
   "execution_count": 5,
   "metadata": {},
   "outputs": [
    {
     "name": "stdin",
     "output_type": "stream",
     "text": [
      "Podaj nazwe utworu ktorego chcesz dodac do plyty:  2\n"
     ]
    }
   ],
   "source": [
    "plyta1.add_utwor_do_plyty()"
   ]
  },
  {
   "cell_type": "code",
   "execution_count": 6,
   "metadata": {},
   "outputs": [
    {
     "name": "stdout",
     "output_type": "stream",
     "text": [
      "Tytul: a\n",
      "Typ: a\n",
      "Czas trwania: 30\n",
      "Spis utworow: {1: '1', 2: '2'}\n"
     ]
    }
   ],
   "source": [
    "plyta1.info_o_plycie()"
   ]
  },
  {
   "cell_type": "code",
   "execution_count": 7,
   "metadata": {},
   "outputs": [
    {
     "data": {
      "text/plain": [
       "{'1': 'a'}"
      ]
     },
     "execution_count": 7,
     "metadata": {},
     "output_type": "execute_result"
    }
   ],
   "source": [
    "song1.numer_utworu_na_plytach"
   ]
  },
  {
   "cell_type": "code",
   "execution_count": 10,
   "metadata": {},
   "outputs": [],
   "source": [
    "plyta1.add_plyte()\n",
    "plyta2.add_plyte()"
   ]
  },
  {
   "cell_type": "code",
   "execution_count": 11,
   "metadata": {},
   "outputs": [
    {
     "name": "stdout",
     "output_type": "stream",
     "text": [
      "Tytul: a\n",
      "Typ: a\n",
      "Czas trwania: 30\n",
      "Spis utworow: {1: '1', 2: '2'}\n",
      "None\n"
     ]
    }
   ],
   "source": [
    "print(baza[1].info_o_plycie())"
   ]
  },
  {
   "cell_type": "code",
   "execution_count": 12,
   "metadata": {},
   "outputs": [],
   "source": [
    "p.dump(baza, open('Baza_danych_plyt.txt', 'wb'))"
   ]
  },
  {
   "cell_type": "code",
   "execution_count": 19,
   "metadata": {},
   "outputs": [],
   "source": [
    "u = p.load(open('Baza_danych_plyt.txt', 'rb'))"
   ]
  },
  {
   "cell_type": "markdown",
   "metadata": {
    "id": "epEOcHW8gdKL"
   },
   "source": [
    "### Zadanie 2 [25]\n",
    "Zaimplementuj klasę: automatyczna skrzynia biegów. Klasa ma tylko dwa pola prędkość i bieg. Funkcjonalność:\n",
    "\n",
    "    - zwiększ prędkość\n",
    "    - zmninejsz prędkość\n",
    "    - wyświetl prędkość\n",
    "    - wyświetl numer biegu\n",
    "    - bieg wsteczny\n",
    "    \n",
    "Zakładamy\n",
    "\n",
    "   - że zmiana biegu następuje wraz ze zmianą prędkości (inne czynniki pomijamy).  \n",
    "   - zmiana na bieg wsteczny lub z biegu wstecznego  jest możliwa po zatrzymaniu pojadu i zmianie ręcznej (do tyłu - do przodu).\n",
    "    \n",
    "    "
   ]
  },
  {
   "cell_type": "code",
   "execution_count": 11,
   "metadata": {},
   "outputs": [],
   "source": [
    "#Załóżmy że:\n",
    "# 1 bieg ma max 15k/m, 2 - 45 3 - 80 4 - 120 5 - 180 6 - 250\n",
    "dict_ = {1 : 15, 2 : 45, 3 : 80, 4 : 120, 5 : 180, 6 : 250}\n",
    "\n",
    "def alg(predkosc,bieg,dict_):\n",
    "    for k,v in dict_.items():\n",
    "        if predkosc - v == 0:\n",
    "            for i in range(bieg + 1, k + 1):\n",
    "                print(f'Zmieniam bieg na {i}')\n",
    "            bieg = k\n",
    "            break\n",
    "\n",
    "        elif predkosc - v < 0:\n",
    "            for i in range(bieg + 1, k + 1):\n",
    "                print(f'Zmieniam bieg na {i}')\n",
    "            bieg = k\n",
    "            break\n",
    "            \n",
    "    return predkosc, bieg\n",
    "\n",
    "class automatyczna_skrzynia_biegów:\n",
    "    def __init__(self):\n",
    "        self.predkosc = 0\n",
    "        self.bieg = 0\n",
    "    \n",
    "    \n",
    "    \n",
    "    def zwieksz_predkosc(self):\n",
    "        if self.bieg < 0:\n",
    "            predkosc = abs(int(input('O ile zwiekszamy predkosc?')))\n",
    "            if self.predkosc + predkosc > 0:\n",
    "                    while True:\n",
    "                        if self.predkosc + predkosc > 0:\n",
    "                            predkosc = abs(int(input(f'Najpierw musisz miec predkosc = 0')))\n",
    "                        break\n",
    "            self.predkosc += predkosc\n",
    "            return self.predkosc, self.bieg\n",
    "        while True:\n",
    "            predkosc = abs(int(input('O ile zwiekszamy predkosc? ')))\n",
    "\n",
    "            if self.predkosc + predkosc > max(dict_.values()):\n",
    "                while True:\n",
    "                    if predkosc + self.predkosc <= max(dict_.values()):\n",
    "                        self.predkosc += predkosc\n",
    "                        break\n",
    "                        \n",
    "                else:\n",
    "                    predkosc = abs(int(input(f'Max predkosc to 250. Predkosc w tej chwili: {self.predkosc} ')))\n",
    "                        \n",
    "            self.predkosc += predkosc\n",
    "            break\n",
    "        self.predkosc, self.bieg = alg(self.predkosc,self.bieg,dict_)\n",
    "            \n",
    "    def zmniejsz_predkosc(self):\n",
    "            if self.bieg < 0:\n",
    "                self.predkosc -= abs(int(input('O ile zmniejszamy predkosc?')))\n",
    "                return self.predkosc, self.bieg\n",
    "        \n",
    "            predkosc = abs(int(input('O ile zmniejszamy predkosc?')))\n",
    "        \n",
    "            while True:\n",
    "                if self.predkosc - predkosc > 0:\n",
    "                    self.predkosc -= predkosc\n",
    "                    break\n",
    "                elif self.predkosc - predkosc == 0:\n",
    "                    self.bieg = 0\n",
    "                    self.predkosc = 0\n",
    "                    return self.predkosc,self.bieg\n",
    "                else:\n",
    "                    predkosc = abs(int(input(f'Zanim zaczniesz się cofać musisz zmniejszyć prędkość do zera i ręcznie zmienić bieg.Predkosc w tej chwili: {self.predkosc} ')))\n",
    "            self.predkosc -= predkosc\n",
    "            \n",
    "            self.predkosc, self.bieg = alg(self.predkosc,self.bieg,dict_)\n",
    "            \n",
    "    def wyswietl_predkosc(self):\n",
    "        return f'Predkosc: {self.predkosc}'\n",
    "    \n",
    "    def wyswietl_numer_biegu(self):\n",
    "        return f'Numer biegu: {self.bieg}'\n",
    "    \n",
    "    def bieg_wsteczny(self):\n",
    "        if self.predkosc == 0 and self.bieg == -1:\n",
    "            self.bieg = 0\n",
    "        elif self.predkosc == 0:\n",
    "            self.bieg = -1\n",
    "        else:\n",
    "            return 'Zanim zaczniesz się cofać predkosc musze byc =  zera'\n"
   ]
  },
  {
   "cell_type": "code",
   "execution_count": 12,
   "metadata": {},
   "outputs": [],
   "source": [
    "a = automatyczna_skrzynia_biegów()"
   ]
  },
  {
   "cell_type": "code",
   "execution_count": 13,
   "metadata": {},
   "outputs": [
    {
     "data": {
      "text/plain": [
       "0"
      ]
     },
     "execution_count": 13,
     "metadata": {},
     "output_type": "execute_result"
    }
   ],
   "source": [
    "a.predkosc"
   ]
  },
  {
   "cell_type": "code",
   "execution_count": 27,
   "metadata": {},
   "outputs": [
    {
     "name": "stdin",
     "output_type": "stream",
     "text": [
      "O ile zwiekszamy predkosc? 15\n"
     ]
    },
    {
     "data": {
      "text/plain": [
       "(0, -1)"
      ]
     },
     "execution_count": 27,
     "metadata": {},
     "output_type": "execute_result"
    }
   ],
   "source": [
    "a.zwieksz_predkosc()"
   ]
  },
  {
   "cell_type": "code",
   "execution_count": 28,
   "metadata": {},
   "outputs": [],
   "source": [
    "a.bieg_wsteczny()"
   ]
  },
  {
   "cell_type": "code",
   "execution_count": 22,
   "metadata": {},
   "outputs": [
    {
     "data": {
      "text/plain": [
       "'Numer biegu: -1'"
      ]
     },
     "execution_count": 22,
     "metadata": {},
     "output_type": "execute_result"
    }
   ],
   "source": [
    "a.wyswietl_numer_biegu()"
   ]
  },
  {
   "cell_type": "code",
   "execution_count": 26,
   "metadata": {},
   "outputs": [
    {
     "name": "stdin",
     "output_type": "stream",
     "text": [
      "O ile zmniejszamy predkosc? 15\n"
     ]
    },
    {
     "data": {
      "text/plain": [
       "(-15, -1)"
      ]
     },
     "execution_count": 26,
     "metadata": {},
     "output_type": "execute_result"
    }
   ],
   "source": [
    "a.zmniejsz_predkosc()"
   ]
  }
 ],
 "metadata": {
  "colab": {
   "name": "IS_2020_AiP_PD5_nazwisko_imie.ipynb",
   "provenance": []
  },
  "kernelspec": {
   "display_name": "Python 3 (ipykernel)",
   "language": "python",
   "name": "python3"
  },
  "language_info": {
   "codemirror_mode": {
    "name": "ipython",
    "version": 3
   },
   "file_extension": ".py",
   "mimetype": "text/x-python",
   "name": "python",
   "nbconvert_exporter": "python",
   "pygments_lexer": "ipython3",
   "version": "3.9.5"
  }
 },
 "nbformat": 4,
 "nbformat_minor": 4
}
