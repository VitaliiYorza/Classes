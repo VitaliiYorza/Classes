{
 "cells": [
  {
   "cell_type": "markdown",
   "metadata": {
    "id": "Mi2UcQ8AsZvu"
   },
   "source": [
    "## IS 2020 Algorytmy i programowanie\n",
    "### Praca domowa 6 [100 pkt]\n",
    "\n",
    "### Programowanie obiektowe - dziedziczenie"
   ]
  },
  {
   "cell_type": "markdown",
   "metadata": {
    "id": "uDbyadj4sZv6"
   },
   "source": [
    "### Zadanie 1 Generator docstringa w stylu Pydoc/Sphinx [20]\n",
    "Napisz funkcję generującą docstring w typie Pydoc/Sphinx, bazując na definicji funkcji `__init__`. Funkcja powinna pobierać zestaw parametrów w postaci słownika\n",
    "\n",
    "    {'Args': None, 'Returns': None, 'Raises': None, 'Attributes': None, 'Summary': None, 'Description': None}\n",
    "\n",
    "i generować poprawny docstring (w odpowiedniej kolejności)."
   ]
  },
  {
   "cell_type": "code",
   "execution_count": null,
   "metadata": {
    "id": "GDJT8ZzEsZv8"
   },
   "outputs": [],
   "source": []
  },
  {
   "cell_type": "markdown",
   "metadata": {
    "id": "Ss5Am8l0sZv9"
   },
   "source": [
    "### Zadanie 2 [40]\n",
    "Zaimplemetuj klasy `Pojazd`, `Łódź` i `Amfibia(Łódź, Pojazd)`. \n",
    "\n",
    "Funkcjonalność:\n",
    "    - przyspiesz, zwolnij,\n",
    "    - stan paliwa\n",
    "    - dodaj własną dowolną funkcjonalność w klasie"
   ]
  },
  {
   "cell_type": "code",
   "execution_count": 28,
   "metadata": {
    "id": "ODf57MccsZv-"
   },
   "outputs": [],
   "source": [
    "def acc(machine):\n",
    "        if machine.fuel_conditon == 0:\n",
    "            return 'Not enough fuel'\n",
    "        elif machine.fuel_conditon - 10 == 0:\n",
    "            answer = input(f'Attention, if accelerating, the {machine.name} will run out of fuel. You sure? \"Y\" or \"N\"')\n",
    "            if answer == 'Y':\n",
    "                machine.fuel_conditon -= 10\n",
    "                machine.speed += abs(int(input(f'How much to speed up the {machine.name}? ')))\n",
    "                return f'Speed of {machine.name} is: {machine.speed}'\n",
    "            elif answer == \"N\":\n",
    "                return 'Good choise =)'\n",
    "        else:\n",
    "            machine.fuel_conditon -= 10\n",
    "            machine.speed += abs(int(input(f'How much to speed up the {machine.name}? ')))\n",
    "            return f'Speed of {machine.name} is: {machine.speed}'\n",
    "            \n",
    "\n",
    "def dec(machine):\n",
    "        deceleration = abs(int(input(f'How much to slow down the {machine.name}? ')))\n",
    "        if machine.speed - deceleration < 0:\n",
    "            while True:\n",
    "                if machine.speed - deceleration >= 0:\n",
    "                    machine.speed -= deceleration\n",
    "                    break\n",
    "                deceleration = abs(int(input(f'{machine.name} speed cannot be lower than 0. {machine.name} speed is {machine.speed}')))   \n",
    "        else:\n",
    "            machine.speed -= deceleration\n",
    "                \n",
    "def ref(machine):\n",
    "        if machine.speed == 0:\n",
    "            machine.fuel_conditon = 100\n",
    "        else:\n",
    "            return f'The {machine.name} must stop for refueling'\n",
    "\n",
    "class Pojazd:\n",
    "    def __init__(self):\n",
    "        self.name = input('Write the name of the train: ')\n",
    "        self.weight = int(input('Write the weight of the train: '))\n",
    "        self.number_of_wagons = 0\n",
    "        self.fuel_conditon = 100\n",
    "        self.speed = 0\n",
    "    \n",
    "    def acceleration(self):\n",
    "        acc(self)\n",
    "        \n",
    "    def deceleration(self):\n",
    "        dec(self)\n",
    "    \n",
    "    \n",
    "    def refueling(self):\n",
    "        ref(self)\n",
    "        \n",
    "    def fuel_conditon(self):\n",
    "        return self.fuel_conditon\n",
    "    \n",
    "    def change_name(self):\n",
    "        self.name = input('Write new name')\n",
    "        \n",
    "    def add_wagons(self):\n",
    "        if self.speed == 0:\n",
    "            self.number_of_wagons += int(input('How many wagons do you want to add? '))\n",
    "            self.weight += 10000 * self.number_of_wagons\n",
    "\n",
    "        else:\n",
    "            return 'Train should stop'\n",
    "class Lodz:\n",
    "    def __init__(self):\n",
    "        self.name = input('Write the name of the ship: ')\n",
    "        self.weight = int(input('Write the weight of the ship: '))\n",
    "        self.number_of_people = 0\n",
    "        self.fuel_conditon = 100\n",
    "        self.speed = 0\n",
    "    \n",
    "    def acceleration(self):\n",
    "        acc(self)\n",
    "        \n",
    "    def deceleration(self):\n",
    "        dec(self)\n",
    "    \n",
    "    \n",
    "    def refueling(self):\n",
    "        ref(self)\n",
    "    \n",
    "    def add_people(self):\n",
    "        if self.speed == 0:\n",
    "            self.number_of_people += int(input('How many people add?' ))\n",
    "            self.weight = self.number_of_people * 70\n",
    "        else:\n",
    "            return 'Ship should stop'\n",
    "        \n",
    "    \n",
    "\n",
    "\n",
    "class Amfibia(Lodz, Pojazd):\n",
    "    def __init__(self):\n",
    "        Lodz.__init__(self)"
   ]
  },
  {
   "cell_type": "code",
   "execution_count": 29,
   "metadata": {},
   "outputs": [
    {
     "name": "stdin",
     "output_type": "stream",
     "text": [
      "Write the name of the ship:  Vic\n",
      "Write the weight of the ship:  45\n"
     ]
    }
   ],
   "source": [
    "a = Amfibia()"
   ]
  },
  {
   "cell_type": "code",
   "execution_count": 33,
   "metadata": {},
   "outputs": [
    {
     "name": "stdin",
     "output_type": "stream",
     "text": [
      "How much to slow down the Vic?  3\n",
      "Vic speed cannot be lower than 0. Vic speed is 2 2\n"
     ]
    }
   ],
   "source": [
    "a.deceleration()"
   ]
  },
  {
   "cell_type": "code",
   "execution_count": 34,
   "metadata": {},
   "outputs": [
    {
     "data": {
      "text/plain": [
       "0"
      ]
     },
     "execution_count": 34,
     "metadata": {},
     "output_type": "execute_result"
    }
   ],
   "source": [
    "a.speed"
   ]
  },
  {
   "cell_type": "code",
   "execution_count": 30,
   "metadata": {},
   "outputs": [
    {
     "name": "stdin",
     "output_type": "stream",
     "text": [
      "How much to speed up the Vic?  5\n"
     ]
    }
   ],
   "source": [
    "a.acceleration()"
   ]
  },
  {
   "cell_type": "code",
   "execution_count": 24,
   "metadata": {},
   "outputs": [
    {
     "data": {
      "text/plain": [
       "90"
      ]
     },
     "execution_count": 24,
     "metadata": {},
     "output_type": "execute_result"
    }
   ],
   "source": [
    "a.fuel_conditon"
   ]
  },
  {
   "cell_type": "markdown",
   "metadata": {
    "id": "JTPkdTigsZv-"
   },
   "source": [
    "### Zadanie 3 [40]\n",
    "Zaproponuj własną klasę oraz klasę po niej dziedziczącą. Zastosuj metodę `super`. \n",
    "\n",
    "Dodaj `__str__` oraz przetestuj kod dla kilku instacji (podobnie dla poprzedniego zadania)."
   ]
  },
  {
   "cell_type": "code",
   "execution_count": 2,
   "metadata": {},
   "outputs": [
    {
     "data": {
      "text/plain": [
       "0.0"
      ]
     },
     "execution_count": 2,
     "metadata": {},
     "output_type": "execute_result"
    }
   ],
   "source": []
  },
  {
   "cell_type": "code",
   "execution_count": null,
   "metadata": {},
   "outputs": [],
   "source": []
  },
  {
   "cell_type": "code",
   "execution_count": null,
   "metadata": {},
   "outputs": [],
   "source": []
  },
  {
   "cell_type": "code",
   "execution_count": null,
   "metadata": {},
   "outputs": [],
   "source": []
  },
  {
   "cell_type": "code",
   "execution_count": null,
   "metadata": {},
   "outputs": [],
   "source": []
  },
  {
   "cell_type": "code",
   "execution_count": null,
   "metadata": {
    "id": "g2RZbNeasZv_"
   },
   "outputs": [],
   "source": []
  }
 ],
 "metadata": {
  "colab": {
   "name": "IS_2020_AiP_PD6_nazwisko_imie.ipynb",
   "provenance": []
  },
  "kernelspec": {
   "display_name": "Python 3 (ipykernel)",
   "language": "python",
   "name": "python3"
  },
  "language_info": {
   "codemirror_mode": {
    "name": "ipython",
    "version": 3
   },
   "file_extension": ".py",
   "mimetype": "text/x-python",
   "name": "python",
   "nbconvert_exporter": "python",
   "pygments_lexer": "ipython3",
   "version": "3.9.5"
  }
 },
 "nbformat": 4,
 "nbformat_minor": 4
}
