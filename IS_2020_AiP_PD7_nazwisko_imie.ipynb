{
 "cells": [
  {
   "cell_type": "markdown",
   "metadata": {
    "id": "c5KT6G3BEJy5"
   },
   "source": [
    "## IS 2020 Algorytmy i programowanie\n",
    "### Praca domowa 6 [100 pkt]\n",
    "\n"
   ]
  },
  {
   "cell_type": "markdown",
   "metadata": {
    "id": "hEoH7RtyEJzD"
   },
   "source": [
    "### Zadanie 1 Wektor [40]\n",
    "Zaimplementuj klasę Wektor:\n",
    "(dodawanie, mnożenie przez skalar, odejmowanie, wyznaczenie długości, iloczyn skalarny wektorów, czy wektory sa równe, czy wektory są prostopadłe, czy wektory są równoległe)"
   ]
  },
  {
   "cell_type": "markdown",
   "metadata": {
    "id": "ROCSN0r1EJzF"
   },
   "source": [
    "https://www.python-course.eu/python3_magic_methods.php"
   ]
  },
  {
   "cell_type": "code",
   "execution_count": 192,
   "metadata": {
    "id": "rIqSo3EMEJzH"
   },
   "outputs": [],
   "source": [
    "def equal(a,b):\n",
    "    if len(a) != len(b):\n",
    "        return False\n",
    "    else:\n",
    "        return True\n",
    "\n",
    "# class Myerror(Exception):\n",
    "#     def __str__(self):\n",
    "#         return 'They are not equal!'\n",
    "\n",
    "\n",
    "class Wektor:\n",
    "    def __init__(self,value):\n",
    "        self.value = value\n",
    "    def __add__(self,other):\n",
    "        if equal(self.value, other.value) == False:\n",
    "            return 'They have different amounts of numbers'\n",
    "        \n",
    "        c = []\n",
    "        for i in range(len(self.value)):\n",
    "            c.append(self.value[i] + other.value[i])\n",
    "        return Wektor(c)\n",
    "    def __sub__(self, other):\n",
    "        if equal(self.value, other.value) == False:\n",
    "            return 'They have different amounts of numbers'\n",
    "        c = []\n",
    "        for i in range(len(self.value)):\n",
    "            c.append(self.value[i] - other.value[i])\n",
    "        return Wektor(c)\n",
    "    def __mul__(self, other):\n",
    "        if type(other) == int or type(other) == float: \n",
    "            c = []\n",
    "            for i in range(len(self.value)):\n",
    "                c.append(self.value[i] * other)\n",
    "            return Wektor(c)\n",
    "        \n",
    "    def __rmul__(self, other):\n",
    "        c = []\n",
    "        for i in range(len(self.value)):\n",
    "            c.append(self.value[i] * other)  \n",
    "        return Wektor(c)\n",
    "    \n",
    "    def __neg__(self): #- dlugosc\n",
    "        suma = 0\n",
    "        for i in range(len(self.value)):\n",
    "            suma += self.value[i] * self.value[i]\n",
    "        return suma**0.5\n",
    "    def __xor__(self, other): #^ iloczyn skalarny\n",
    "        if equal(self.value, other.value) == False:\n",
    "            return 'They have different amounts of numbers'\n",
    "        suma = 0\n",
    "        for i in range(len(self.value)):\n",
    "            suma += self.value[i] * other.value[i]\n",
    "        return suma\n",
    "    def __eq__(self,other):\n",
    "        if equal(self.value, other.value) == False:\n",
    "            return 'They are not equal'\n",
    "        for i in range(len(self.value)):\n",
    "            if self.value[i] == other.value[i]:\n",
    "                continue\n",
    "            else:\n",
    "                return 'They are not equal'\n",
    "        return 'They are equal'\n",
    "    def __and__(self,other): #&\n",
    "        if self^other == 0:\n",
    "            return 'They are perpendicular'\n",
    "        else:\n",
    "            return 'They are not perpendicular'\n",
    "        \n",
    "            \n",
    "    \n",
    "    \n",
    "    \n",
    "    def __str__(self):\n",
    "        return f'{self.value}'"
   ]
  },
  {
   "cell_type": "code",
   "execution_count": 194,
   "metadata": {},
   "outputs": [
    {
     "data": {
      "text/plain": [
       "-7"
      ]
     },
     "execution_count": 194,
     "metadata": {},
     "output_type": "execute_result"
    }
   ],
   "source": [
    "a = Wektor([1,2,3])\n",
    "b = Wektor([0,5,3])\n",
    "d = Wektor([3,-5])\n",
    "c = Wektor([1,2])\n",
    "d^c"
   ]
  },
  {
   "cell_type": "code",
   "execution_count": 1,
   "metadata": {},
   "outputs": [
    {
     "name": "stdout",
     "output_type": "stream",
     "text": [
      "<class '__main__.A'>\n",
      "asd\n"
     ]
    }
   ],
   "source": [
    "class A:\n",
    "    pass\n",
    "a = A()\n",
    "print(type(a))\n",
    "if isinstance(a,A):\n",
    "    print('asd')"
   ]
  },
  {
   "cell_type": "markdown",
   "metadata": {
    "id": "hczXbJxYEJzI"
   },
   "source": [
    "### Zadanie 2 [60]\n",
    "Na przykładzie klasy robot zaimplementuj jedną z klas:\n",
    "> rakieta\n",
    "\n",
    "> samolot\n",
    "\n",
    "> okręt\n",
    "\n",
    "> czołg\n",
    "\n",
    "> łódź podwodna\n",
    "\n",
    "Zaimplementuj walki pomiędzy instancjami danej klasy.\n",
    "\n",
    "... Tu opisz swój pomysł wg którego bedziesz pisał implementację."
   ]
  },
  {
   "cell_type": "code",
   "execution_count": 25,
   "metadata": {
    "id": "F01HtTIbEJzJ"
   },
   "outputs": [],
   "source": [
    "class Plain:\n",
    "    def __init__(self, name):\n",
    "        self.name = name\n",
    "        self.speed = 0\n",
    "        self.fuel = 100\n",
    "        self.rank = 1\n",
    "        self.rank_of_radar = 1\n",
    "        self.armor = 1\n",
    "        self.attack = 5\n",
    "        self.health = 100\n",
    "        self.maneuverability = self.health//20 - self.armor + self.speed//20\n",
    "        self.max_fuel = self.rank * 100\n",
    "        self.max_speed = self.rank * 200\n",
    "        self.fuel_cost_per_round = self.speed//5\n",
    "    \n",
    "    def set_fuel(self):\n",
    "        if self.speed == 0:\n",
    "            self.fuel = self.max_fuel\n",
    "        else:\n",
    "            return f'Your speed too higher!'\n",
    "    def acceleration(self):\n",
    "        self.speed += abs(int(input('acceleration you speed to ...')))\n",
    "        self.fuel_cost_per_round = self.speed // 5\n",
    "        "
   ]
  },
  {
   "cell_type": "code",
   "execution_count": 26,
   "metadata": {},
   "outputs": [],
   "source": [
    "a = Plain('Victory')\n"
   ]
  },
  {
   "cell_type": "code",
   "execution_count": 27,
   "metadata": {},
   "outputs": [
    {
     "data": {
      "text/plain": [
       "0"
      ]
     },
     "execution_count": 27,
     "metadata": {},
     "output_type": "execute_result"
    }
   ],
   "source": [
    "a.speed"
   ]
  },
  {
   "cell_type": "code",
   "execution_count": 28,
   "metadata": {},
   "outputs": [
    {
     "data": {
      "text/plain": [
       "0"
      ]
     },
     "execution_count": 28,
     "metadata": {},
     "output_type": "execute_result"
    }
   ],
   "source": [
    "a.fuel_cost_per_round"
   ]
  },
  {
   "cell_type": "code",
   "execution_count": 29,
   "metadata": {},
   "outputs": [
    {
     "name": "stdin",
     "output_type": "stream",
     "text": [
      "acceleration you speed to ... 350\n"
     ]
    }
   ],
   "source": [
    "a.acceleration()"
   ]
  },
  {
   "cell_type": "code",
   "execution_count": 14,
   "metadata": {},
   "outputs": [
    {
     "data": {
      "text/plain": [
       "int"
      ]
     },
     "execution_count": 14,
     "metadata": {},
     "output_type": "execute_result"
    }
   ],
   "source": [
    "type(-5)"
   ]
  },
  {
   "cell_type": "code",
   "execution_count": null,
   "metadata": {},
   "outputs": [],
   "source": []
  }
 ],
 "metadata": {
  "colab": {
   "name": "IS_2020_AiP_PD7_nazwisko_imie.ipynb",
   "provenance": []
  },
  "kernelspec": {
   "display_name": "Python 3 (ipykernel)",
   "language": "python",
   "name": "python3"
  },
  "language_info": {
   "codemirror_mode": {
    "name": "ipython",
    "version": 3
   },
   "file_extension": ".py",
   "mimetype": "text/x-python",
   "name": "python",
   "nbconvert_exporter": "python",
   "pygments_lexer": "ipython3",
   "version": "3.9.5"
  }
 },
 "nbformat": 4,
 "nbformat_minor": 4
}
